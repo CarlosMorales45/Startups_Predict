{
 "cells": [
  {
   "cell_type": "markdown",
   "id": "728f75d3",
   "metadata": {},
   "source": [
    "# Modelado — Clasificación de Viabilidad (tabular)\n",
    "Notebook para entrenamiento, validación y selección del mejor modelo con datos tabulares procesados.\n",
    "\n",
    "**Entrada:** `data/processed/startups_sintetico_1000_processed.csv`\n",
    "\n",
    "**Métricas:** ROC AUC (principal), F1, Precisión, Recall, Accuracy.\n"
   ]
  },
  {
   "cell_type": "code",
   "execution_count": 1,
   "id": "1f7d3528",
   "metadata": {},
   "outputs": [
    {
     "name": "stdout",
     "output_type": "stream",
     "text": [
      "(1000, 51)\n"
     ]
    },
    {
     "data": {
      "text/html": [
       "<div>\n",
       "<style scoped>\n",
       "    .dataframe tbody tr th:only-of-type {\n",
       "        vertical-align: middle;\n",
       "    }\n",
       "\n",
       "    .dataframe tbody tr th {\n",
       "        vertical-align: top;\n",
       "    }\n",
       "\n",
       "    .dataframe thead th {\n",
       "        text-align: right;\n",
       "    }\n",
       "</style>\n",
       "<table border=\"1\" class=\"dataframe\">\n",
       "  <thead>\n",
       "    <tr style=\"text-align: right;\">\n",
       "      <th></th>\n",
       "      <th>monto_financiado</th>\n",
       "      <th>num_rondas</th>\n",
       "      <th>tamano_equipo</th>\n",
       "      <th>exp_fundadores</th>\n",
       "      <th>presencia_redes</th>\n",
       "      <th>inversores_destacados</th>\n",
       "      <th>descripcion</th>\n",
       "      <th>tiempo_fundacion</th>\n",
       "      <th>viabilidad</th>\n",
       "      <th>flag_na_monto_financiado</th>\n",
       "      <th>...</th>\n",
       "      <th>ubicacion_trujillo</th>\n",
       "      <th>estado_operativo_activo</th>\n",
       "      <th>estado_operativo_cerrado</th>\n",
       "      <th>estado_operativo_en pausa</th>\n",
       "      <th>estado_operativo_nan</th>\n",
       "      <th>estado_operativo_prototipo</th>\n",
       "      <th>antiguedad_bucket_0-1</th>\n",
       "      <th>antiguedad_bucket_2-3</th>\n",
       "      <th>antiguedad_bucket_4-7</th>\n",
       "      <th>antiguedad_bucket_8+</th>\n",
       "    </tr>\n",
       "  </thead>\n",
       "  <tbody>\n",
       "    <tr>\n",
       "      <th>0</th>\n",
       "      <td>1555000.0</td>\n",
       "      <td>2.0</td>\n",
       "      <td>49.0</td>\n",
       "      <td>8.7</td>\n",
       "      <td>8.5</td>\n",
       "      <td>0.0</td>\n",
       "      <td>equipo con 8+ años de experiencia. operando en...</td>\n",
       "      <td>2016.0</td>\n",
       "      <td>1</td>\n",
       "      <td>0</td>\n",
       "      <td>...</td>\n",
       "      <td>False</td>\n",
       "      <td>True</td>\n",
       "      <td>False</td>\n",
       "      <td>False</td>\n",
       "      <td>False</td>\n",
       "      <td>False</td>\n",
       "      <td>False</td>\n",
       "      <td>False</td>\n",
       "      <td>False</td>\n",
       "      <td>True</td>\n",
       "    </tr>\n",
       "    <tr>\n",
       "      <th>1</th>\n",
       "      <td>4217000.0</td>\n",
       "      <td>1.0</td>\n",
       "      <td>9.0</td>\n",
       "      <td>1.2</td>\n",
       "      <td>-5.0</td>\n",
       "      <td>0.0</td>\n",
       "      <td>operando en el mercado</td>\n",
       "      <td>2007.0</td>\n",
       "      <td>1</td>\n",
       "      <td>0</td>\n",
       "      <td>...</td>\n",
       "      <td>False</td>\n",
       "      <td>True</td>\n",
       "      <td>False</td>\n",
       "      <td>False</td>\n",
       "      <td>False</td>\n",
       "      <td>False</td>\n",
       "      <td>False</td>\n",
       "      <td>False</td>\n",
       "      <td>False</td>\n",
       "      <td>True</td>\n",
       "    </tr>\n",
       "    <tr>\n",
       "      <th>2</th>\n",
       "      <td>1224000.0</td>\n",
       "      <td>5.0</td>\n",
       "      <td>17.0</td>\n",
       "      <td>2.5</td>\n",
       "      <td>77.3</td>\n",
       "      <td>0.0</td>\n",
       "      <td>buena presencia en redes. operando en el merca...</td>\n",
       "      <td>2019.0</td>\n",
       "      <td>1</td>\n",
       "      <td>0</td>\n",
       "      <td>...</td>\n",
       "      <td>False</td>\n",
       "      <td>True</td>\n",
       "      <td>False</td>\n",
       "      <td>False</td>\n",
       "      <td>False</td>\n",
       "      <td>False</td>\n",
       "      <td>False</td>\n",
       "      <td>False</td>\n",
       "      <td>True</td>\n",
       "      <td>False</td>\n",
       "    </tr>\n",
       "  </tbody>\n",
       "</table>\n",
       "<p>3 rows × 51 columns</p>\n",
       "</div>"
      ],
      "text/plain": [
       "   monto_financiado  num_rondas  tamano_equipo  exp_fundadores  \\\n",
       "0         1555000.0         2.0           49.0             8.7   \n",
       "1         4217000.0         1.0            9.0             1.2   \n",
       "2         1224000.0         5.0           17.0             2.5   \n",
       "\n",
       "   presencia_redes  inversores_destacados  \\\n",
       "0              8.5                    0.0   \n",
       "1             -5.0                    0.0   \n",
       "2             77.3                    0.0   \n",
       "\n",
       "                                         descripcion  tiempo_fundacion  \\\n",
       "0  equipo con 8+ años de experiencia. operando en...            2016.0   \n",
       "1                             operando en el mercado            2007.0   \n",
       "2  buena presencia en redes. operando en el merca...            2019.0   \n",
       "\n",
       "   viabilidad  flag_na_monto_financiado  ...  ubicacion_trujillo  \\\n",
       "0           1                         0  ...               False   \n",
       "1           1                         0  ...               False   \n",
       "2           1                         0  ...               False   \n",
       "\n",
       "   estado_operativo_activo  estado_operativo_cerrado  \\\n",
       "0                     True                     False   \n",
       "1                     True                     False   \n",
       "2                     True                     False   \n",
       "\n",
       "   estado_operativo_en pausa  estado_operativo_nan  \\\n",
       "0                      False                 False   \n",
       "1                      False                 False   \n",
       "2                      False                 False   \n",
       "\n",
       "   estado_operativo_prototipo  antiguedad_bucket_0-1  antiguedad_bucket_2-3  \\\n",
       "0                       False                  False                  False   \n",
       "1                       False                  False                  False   \n",
       "2                       False                  False                  False   \n",
       "\n",
       "   antiguedad_bucket_4-7  antiguedad_bucket_8+  \n",
       "0                  False                  True  \n",
       "1                  False                  True  \n",
       "2                   True                 False  \n",
       "\n",
       "[3 rows x 51 columns]"
      ]
     },
     "execution_count": 1,
     "metadata": {},
     "output_type": "execute_result"
    }
   ],
   "source": [
    "# === Imports y setup ===\n",
    "import numpy as np, pandas as pd\n",
    "import matplotlib.pyplot as plt\n",
    "\n",
    "from pathlib import Path\n",
    "RANDOM_STATE = 42\n",
    "np.random.seed(RANDOM_STATE)\n",
    "\n",
    "from sklearn.model_selection import train_test_split, StratifiedKFold, cross_val_score, RandomizedSearchCV, GridSearchCV\n",
    "from sklearn.metrics import (roc_auc_score, f1_score, precision_score, recall_score, accuracy_score,\n",
    "                             confusion_matrix, RocCurveDisplay, PrecisionRecallDisplay)\n",
    "from sklearn.pipeline import Pipeline\n",
    "from sklearn.preprocessing import StandardScaler\n",
    "from sklearn.dummy import DummyClassifier\n",
    "from sklearn.linear_model import LogisticRegression\n",
    "from sklearn.tree import DecisionTreeClassifier\n",
    "from sklearn.ensemble import RandomForestClassifier, HistGradientBoostingClassifier\n",
    "\n",
    "def find_project_root(start: Path = None) -> Path:\n",
    "    p = start or Path.cwd()\n",
    "    for cand in [p, *p.parents]:\n",
    "        if (cand / \"data\" / \"raw\").exists():\n",
    "            return cand\n",
    "    raise FileNotFoundError(\"No se encontró la carpeta 'data/raw' en la jerarquía del proyecto.\")\n",
    "\n",
    "PROJECT_ROOT = find_project_root()\n",
    "processed_path = PROJECT_ROOT / \"data\" / \"processed\" / \"startups_sintetico_1000_processed.csv\"\n",
    "assert processed_path.exists(), \"No se encuentra el procesado. Ejecuta el notebook de exploración/limpieza primero.\"\n",
    "df = pd.read_csv(processed_path, encoding=\"utf-8\")\n",
    "print(df.shape)\n",
    "df.head(3)"
   ]
  },
  {
   "cell_type": "code",
   "execution_count": 2,
   "id": "66eba66d",
   "metadata": {},
   "outputs": [
    {
     "name": "stdout",
     "output_type": "stream",
     "text": [
      "One-hot aplicado a 'sector_x_estado' -> 46 columnas nuevas.\n",
      "X shape: (1000, 18) | y shape: (1000,) | Num cols: 18\n",
      "✔️ Solo dtypes numéricos: {dtype('float64'), dtype('int64')}\n"
     ]
    }
   ],
   "source": [
    "# === Preparación de X, y robusta (convierte sector_x_estado si es texto y filtra solo numéricas) ===\n",
    "TARGET_COL = \"viabilidad\"\n",
    "assert TARGET_COL in df.columns, \"Falta la columna objetivo 'viabilidad'\"\n",
    "\n",
    "# 1) One-hot SOLO si 'sector_x_estado' quedó como object (evita re-encodar lo ya dummificado)\n",
    "if \"sector_x_estado\" in df.columns and df[\"sector_x_estado\"].dtype == \"object\":\n",
    "    dummies_sxe = pd.get_dummies(df[\"sector_x_estado\"], prefix=\"sector_x_estado\", drop_first=False)\n",
    "    df = pd.concat([df.drop(columns=[\"sector_x_estado\"]), dummies_sxe], axis=1)\n",
    "    print(f\"One-hot aplicado a 'sector_x_estado' -> {dummies_sxe.shape[1]} columnas nuevas.\")\n",
    "\n",
    "# 2) El tabular NO usa 'descripcion'\n",
    "drop_cols = [TARGET_COL]\n",
    "if \"descripcion\" in df.columns:\n",
    "    drop_cols.append(\"descripcion\")\n",
    "\n",
    "X_all = df.drop(columns=drop_cols)\n",
    "\n",
    "# 3) Mantener SOLO columnas numéricas (bloquea cualquier object que haya quedado)\n",
    "obj_cols = X_all.select_dtypes(include=[\"object\"]).columns.tolist()\n",
    "if obj_cols:\n",
    "    print(\"⚠️ Columnas object excluidas del tabular:\", obj_cols)\n",
    "\n",
    "num_cols = X_all.select_dtypes(include=[np.number]).columns.tolist()\n",
    "X = X_all[num_cols].copy()\n",
    "y = df[TARGET_COL].astype(int)\n",
    "\n",
    "print(\"X shape:\", X.shape, \"| y shape:\", y.shape, \"| Num cols:\", len(num_cols))\n",
    "print(\"✔️ Solo dtypes numéricos:\", set(X.dtypes.unique()))\n"
   ]
  },
  {
   "cell_type": "code",
   "execution_count": 3,
   "id": "c607fc67",
   "metadata": {},
   "outputs": [
    {
     "name": "stdout",
     "output_type": "stream",
     "text": [
      "Splits -> (700, 18) (150, 18) (150, 18)\n"
     ]
    }
   ],
   "source": [
    "# === Partición 70/15/15 y CV ===\n",
    "X_train, X_temp, y_train, y_temp = train_test_split(X, y, test_size=0.30, stratify=y, random_state=RANDOM_STATE)\n",
    "X_valid, X_test, y_valid, y_test = train_test_split(X_temp, y_temp, test_size=0.50, stratify=y_temp, random_state=RANDOM_STATE)\n",
    "print(\"Splits ->\", X_train.shape, X_valid.shape, X_test.shape)\n",
    "\n",
    "cv = StratifiedKFold(n_splits=5, shuffle=True, random_state=RANDOM_STATE)\n",
    "\n",
    "def evaluate_model(clf, Xv, yv, name=\"model\"):\n",
    "    # scores probabilísticos\n",
    "    if hasattr(clf, \"predict_proba\"):\n",
    "        scores = clf.predict_proba(Xv)[:,1]\n",
    "    elif hasattr(clf, \"decision_function\"):\n",
    "        scores = clf.decision_function(Xv)\n",
    "    else:\n",
    "        scores = clf.predict(Xv)\n",
    "    yhat = (scores >= 0.5).astype(int)\n",
    "    metrics = {\n",
    "        \"roc_auc\": roc_auc_score(yv, scores),\n",
    "        \"f1\": f1_score(yv, yhat),\n",
    "        \"precision\": precision_score(yv, yhat, zero_division=0),\n",
    "        \"recall\": recall_score(yv, yhat),\n",
    "        \"accuracy\": accuracy_score(yv, yhat),\n",
    "    }\n",
    "    print(f\"[{name}] AUC={metrics['roc_auc']:.3f} | F1={metrics['f1']:.3f} | P={metrics['precision']:.3f} | R={metrics['recall']:.3f} | Acc={metrics['accuracy']:.3f}\")\n",
    "    return metrics\n"
   ]
  },
  {
   "cell_type": "markdown",
   "id": "85f9d0ec",
   "metadata": {},
   "source": [
    "## Baselines"
   ]
  },
  {
   "cell_type": "code",
   "execution_count": 4,
   "id": "46b2ec90",
   "metadata": {},
   "outputs": [
    {
     "name": "stdout",
     "output_type": "stream",
     "text": [
      "[Dummy] AUC=0.490 | F1=0.584 | P=0.565 | R=0.605 | Acc=0.507\n",
      "[LogReg] AUC=0.620 | F1=0.687 | P=0.615 | R=0.779 | Acc=0.593\n"
     ]
    }
   ],
   "source": [
    "dummy = DummyClassifier(strategy=\"stratified\", random_state=RANDOM_STATE).fit(X_train, y_train)\n",
    "_ = evaluate_model(dummy, X_valid, y_valid, \"Dummy\")\n",
    "\n",
    "logit = Pipeline([(\"scaler\", StandardScaler(with_mean=False)),\n",
    "                  (\"clf\", LogisticRegression(max_iter=250, random_state=RANDOM_STATE))]).fit(X_train, y_train)\n",
    "_ = evaluate_model(logit, X_valid, y_valid, \"LogReg\")"
   ]
  },
  {
   "cell_type": "markdown",
   "id": "9c3b4458",
   "metadata": {},
   "source": [
    "## Modelos candidatos"
   ]
  },
  {
   "cell_type": "code",
   "execution_count": 5,
   "id": "efe9b9b0",
   "metadata": {},
   "outputs": [
    {
     "name": "stdout",
     "output_type": "stream",
     "text": [
      "[DecisionTree] AUC=0.504 | F1=0.549 | P=0.577 | R=0.523 | Acc=0.507\n",
      "[RandomForest] AUC=0.560 | F1=0.652 | P=0.612 | R=0.698 | Acc=0.573\n",
      "[HGB] AUC=0.565 | F1=0.621 | P=0.614 | R=0.628 | Acc=0.560\n"
     ]
    }
   ],
   "source": [
    "tree = DecisionTreeClassifier(random_state=RANDOM_STATE).fit(X_train, y_train)\n",
    "_ = evaluate_model(tree, X_valid, y_valid, \"DecisionTree\")\n",
    "\n",
    "rf = RandomForestClassifier(n_estimators=300, random_state=RANDOM_STATE, n_jobs=-1).fit(X_train, y_train)\n",
    "_ = evaluate_model(rf, X_valid, y_valid, \"RandomForest\")\n",
    "\n",
    "hgb = HistGradientBoostingClassifier(max_iter=300, learning_rate=0.1, random_state=RANDOM_STATE).fit(X_train, y_train)\n",
    "_ = evaluate_model(hgb, X_valid, y_valid, \"HGB\")"
   ]
  },
  {
   "cell_type": "markdown",
   "id": "4c28a5e9",
   "metadata": {},
   "source": [
    "## Comparación con CV (ROC AUC)"
   ]
  },
  {
   "cell_type": "code",
   "execution_count": 6,
   "id": "acb4d75a",
   "metadata": {},
   "outputs": [
    {
     "name": "stdout",
     "output_type": "stream",
     "text": [
      "LogReg  CV AUC: 0.627 ± 0.042\n",
      "Tree    CV AUC: 0.520 ± 0.038\n",
      "RF      CV AUC: 0.597 ± 0.052\n",
      "HGB     CV AUC: 0.565 ± 0.029\n"
     ]
    }
   ],
   "source": [
    "for name, model in {\"LogReg\":logit, \"Tree\":tree, \"RF\":rf, \"HGB\":hgb}.items():\n",
    "    scores = cross_val_score(model, X_train, y_train, scoring=\"roc_auc\", cv=cv, n_jobs=-1)\n",
    "    print(f\"{name:7s} CV AUC: {scores.mean():.3f} ± {scores.std():.3f}\")"
   ]
  },
  {
   "cell_type": "markdown",
   "id": "3b40f263",
   "metadata": {},
   "source": [
    "## Tuning básico"
   ]
  },
  {
   "cell_type": "code",
   "execution_count": 7,
   "id": "57dea9c0",
   "metadata": {},
   "outputs": [
    {
     "name": "stdout",
     "output_type": "stream",
     "text": [
      "Best HGB: {'max_iter': 200, 'max_depth': 3, 'learning_rate': 0.05, 'l2_regularization': 0.5}\n",
      "[HGB_tuned] AUC=0.558 | F1=0.638 | P=0.588 | R=0.698 | Acc=0.547\n",
      "Best RF: {'max_depth': 6, 'max_features': 0.5, 'n_estimators': 200}\n",
      "[RF_tuned] AUC=0.581 | F1=0.660 | P=0.600 | R=0.733 | Acc=0.567\n"
     ]
    }
   ],
   "source": [
    "# HGB: RandomizedSearch liviano\n",
    "param_dist_hgb = {\n",
    "    \"learning_rate\":[0.03,0.05,0.1,0.2],\n",
    "    \"max_depth\":[None,3,5,7],\n",
    "    \"l2_regularization\":[0.0,0.1,0.5,1.0],\n",
    "    \"max_iter\":[200,300,500]\n",
    "}\n",
    "rs_hgb = RandomizedSearchCV(HistGradientBoostingClassifier(random_state=RANDOM_STATE),\n",
    "                            param_distributions=param_dist_hgb, n_iter=20, scoring=\"roc_auc\",\n",
    "                            cv=cv, random_state=RANDOM_STATE, n_jobs=-1)\n",
    "rs_hgb.fit(X_train, y_train)\n",
    "print(\"Best HGB:\", rs_hgb.best_params_)\n",
    "_ = evaluate_model(rs_hgb.best_estimator_, X_valid, y_valid, \"HGB_tuned\")\n",
    "\n",
    "# RF: Grid pequeño\n",
    "param_grid_rf = {\"n_estimators\":[200,400], \"max_depth\":[None,6,12], \"max_features\":[\"sqrt\",0.5]}\n",
    "gs_rf = GridSearchCV(RandomForestClassifier(random_state=RANDOM_STATE, n_jobs=-1),\n",
    "                     param_grid=param_grid_rf, scoring=\"roc_auc\", cv=cv, n_jobs=-1)\n",
    "gs_rf.fit(X_train, y_train)\n",
    "print(\"Best RF:\", gs_rf.best_params_)\n",
    "_ = evaluate_model(gs_rf.best_estimator_, X_valid, y_valid, \"RF_tuned\")"
   ]
  },
  {
   "cell_type": "markdown",
   "id": "06fc5a40",
   "metadata": {},
   "source": [
    "## Selección final y evaluación en test"
   ]
  },
  {
   "cell_type": "code",
   "execution_count": 8,
   "id": "5557f59a",
   "metadata": {},
   "outputs": [
    {
     "name": "stdout",
     "output_type": "stream",
     "text": [
      "[HGB_tuned] AUC=0.558 | F1=0.638 | P=0.588 | R=0.698 | Acc=0.547\n",
      "[RF_tuned] AUC=0.581 | F1=0.660 | P=0.600 | R=0.733 | Acc=0.567\n",
      "Mejor en valid: RF_tuned AUC=0.581\n",
      "=== Test @0.5 ===\n",
      "AUC: 0.7034883720930232\n",
      "F1: 0.723404255319149 Prec: 0.6666666666666666 Rec: 0.7906976744186046 Acc: 0.6533333333333333\n",
      "Matriz de confusión\n",
      " [[30 34]\n",
      " [18 68]]\n"
     ]
    },
    {
     "data": {
      "image/png": "[encoded data removed]",
      "text/plain": [
       "<Figure size 640x480 with 1 Axes>"
      ]
     },
     "metadata": {},
     "output_type": "display_data"
    },
    {
     "data": {
      "image/png": "[encoded data removed]",
      "text/plain": [
       "<Figure size 640x480 with 1 Axes>"
      ]
     },
     "metadata": {},
     "output_type": "display_data"
    }
   ],
   "source": [
    "finals = {\"HGB_tuned\": rs_hgb.best_estimator_, \"RF_tuned\": gs_rf.best_estimator_}\n",
    "best_name, best_model, best_auc = None, None, -np.inf\n",
    "for name, m in finals.items():\n",
    "    met = evaluate_model(m, X_valid, y_valid, name)\n",
    "    if met[\"roc_auc\"] > best_auc:\n",
    "        best_auc, best_name, best_model = met[\"roc_auc\"], name, m\n",
    "\n",
    "print(f\"Mejor en valid: {best_name} AUC={best_auc:.3f}\")\n",
    "\n",
    "# Reentrena con train+valid\n",
    "best_model.fit(pd.concat([X_train,X_valid]), pd.concat([y_train,y_valid]))\n",
    "\n",
    "# Test\n",
    "if hasattr(best_model, \"predict_proba\"):\n",
    "    scores_test = best_model.predict_proba(X_test)[:,1]\n",
    "elif hasattr(best_model, \"decision_function\"):\n",
    "    scores_test = best_model.decision_function(X_test)\n",
    "else:\n",
    "    scores_test = best_model.predict(X_test)\n",
    "\n",
    "y_pred05 = (scores_test>=0.5).astype(int)\n",
    "\n",
    "print(\"=== Test @0.5 ===\")\n",
    "print(\"AUC:\", roc_auc_score(y_test, scores_test))\n",
    "print(\"F1:\", f1_score(y_test, y_pred05), \"Prec:\", precision_score(y_test, y_pred05), \"Rec:\", recall_score(y_test, y_pred05), \"Acc:\", accuracy_score(y_test, y_pred05))\n",
    "print(\"Matriz de confusión\\n\", confusion_matrix(y_test, y_pred05))\n",
    "\n",
    "# Curvas\n",
    "_ = RocCurveDisplay.from_predictions(y_test, scores_test)\n",
    "plt.title(\"ROC — Test\")\n",
    "plt.show()\n",
    "\n",
    "_ = PrecisionRecallDisplay.from_predictions(y_test, scores_test)\n",
    "plt.title(\"Precision-Recall — Test\")\n",
    "plt.show()"
   ]
  }
 ],
 "metadata": {
  "language_info": {
   "name": "python"
  }
 },
 "nbformat": 4,
 "nbformat_minor": 5
}
