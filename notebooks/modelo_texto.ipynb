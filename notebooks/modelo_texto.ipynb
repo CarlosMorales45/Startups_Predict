{
 "cells": [
  {
   "cell_type": "markdown",
   "id": "61d1f347",
   "metadata": {},
   "source": [
    "# Modelo de Inferencia Solo Texto (TF-IDF)\n",
    "Entrena un modelo que recibe **solo la descripción** y predice viabilidad con justificación básica.\n",
    "\n",
    "**Entrada:** `data/processed/startups_sintetico_1000_processed.csv` (usa columnas `descripcion` y `viabilidad`)."
   ]
  },
  {
   "cell_type": "code",
   "execution_count": null,
   "id": "7e1fcd9b",
   "metadata": {},
   "outputs": [],
   "source": [
    "\n",
    "# Imports\n",
    "import numpy as np, pandas as pd, matplotlib.pyplot as plt\n",
    "from pathlib import Path\n",
    "RANDOM_STATE = 42\n",
    "np.random.seed(42)\n",
    "\n",
    "from sklearn.model_selection import train_test_split\n",
    "from sklearn.feature_extraction.text import TfidfVectorizer\n",
    "from sklearn.pipeline import Pipeline\n",
    "from sklearn.linear_model import LogisticRegression\n",
    "from sklearn.metrics import (roc_auc_score, f1_score, precision_score, recall_score,\n",
    "                             accuracy_score, confusion_matrix, RocCurveDisplay, PrecisionRecallDisplay)\n",
    "\n",
    "from joblib import dump\n",
    "\n",
    "processed_path = Path(\"data/processed/startups_sintetico_1000_processed.csv\")\n",
    "assert processed_path.exists(), \"Ejecuta el notebook de exploración para generar el procesado primero.\"\n",
    "df = pd.read_csv(processed_path, encoding=\"utf-8\")\n",
    "df = df[[\"descripcion\",\"viabilidad\"]].dropna()\n",
    "df[\"descripcion\"] = df[\"descripcion\"].astype(str)\n",
    "print(df.shape)\n",
    "df.head(3)\n"
   ]
  },
  {
   "cell_type": "markdown",
   "id": "b0741227",
   "metadata": {},
   "source": [
    "## Split y pipeline TF-IDF + LogReg"
   ]
  },
  {
   "cell_type": "code",
   "execution_count": null,
   "id": "f37c5938",
   "metadata": {},
   "outputs": [],
   "source": [
    "\n",
    "X_train, X_test, y_train, y_test = train_test_split(df[\"descripcion\"], df[\"viabilidad\"].astype(int),\n",
    "                                                    test_size=0.2, stratify=df[\"viabilidad\"].astype(int),\n",
    "                                                    random_state=RANDOM_STATE)\n",
    "\n",
    "pipe = Pipeline([\n",
    "    (\"tfidf\", TfidfVectorizer(max_features=800, ngram_range=(1,2), min_df=2)),\n",
    "    (\"clf\", LogisticRegression(max_iter=400, random_state=RANDOM_STATE))\n",
    "])\n",
    "pipe.fit(X_train, y_train)\n",
    "\n",
    "# Evaluación\n",
    "scores = pipe.predict_proba(X_test)[:,1]\n",
    "yhat = (scores>=0.5).astype(int)\n",
    "print(\"AUC:\", roc_auc_score(y_test, scores))\n",
    "print(\"F1:\", f1_score(y_test, yhat), \"Prec:\", precision_score(y_test, yhat), \"Rec:\", recall_score(y_test, yhat), \"Acc:\", accuracy_score(y_test, yhat))\n",
    "print(\"Matriz de confusión\\n\", confusion_matrix(y_test, yhat))\n",
    "\n",
    "_ = RocCurveDisplay.from_predictions(y_test, scores); plt.title(\"ROC — Texto\"); plt.show()\n",
    "_ = PrecisionRecallDisplay.from_predictions(y_test, scores); plt.title(\"PR — Texto\"); plt.show()\n"
   ]
  },
  {
   "cell_type": "markdown",
   "id": "5fc7f9de",
   "metadata": {},
   "source": [
    "## Palabras más influyentes (coeficientes)"
   ]
  },
  {
   "cell_type": "code",
   "execution_count": null,
   "id": "6f852fc1",
   "metadata": {},
   "outputs": [],
   "source": [
    "\n",
    "# Extrae términos top positivos/negativos\n",
    "model = pipe.named_steps[\"clf\"]\n",
    "vec = pipe.named_steps[\"tfidf\"]\n",
    "terms = np.array(vec.get_feature_names_out())\n",
    "coefs = model.coef_[0]\n",
    "idx_pos = np.argsort(coefs)[-15:][::-1]\n",
    "idx_neg = np.argsort(coefs)[:15]\n",
    "\n",
    "plt.figure(); plt.barh(terms[idx_pos][::-1], coefs[idx_pos][::-1]); plt.title(\"Términos más PRO-viabilidad\"); plt.tight_layout(); plt.show()\n",
    "plt.figure(); plt.barh(terms[idx_neg][::-1], coefs[idx_neg][::-1]); plt.title(\"Términos más ANTI-viabilidad\"); plt.tight_layout(); plt.show()\n"
   ]
  },
  {
   "cell_type": "markdown",
   "id": "004c9542",
   "metadata": {},
   "source": [
    "## Guardar modelo de texto y función de predicción"
   ]
  },
  {
   "cell_type": "code",
   "execution_count": null,
   "id": "7a29a4af",
   "metadata": {},
   "outputs": [],
   "source": [
    "\n",
    "models_dir = Path(\"models\"); models_dir.mkdir(parents=True, exist_ok=True)\n",
    "dump(pipe, models_dir / \"modelo_texto.joblib\")\n",
    "print(\"Modelo guardado en:\", models_dir / \"modelo_texto.joblib\")\n",
    "\n",
    "def predecir_texto(descripcion: str, thr=0.5):\n",
    "    s = float(pipe.predict_proba([descripcion])[:,1])\n",
    "    yhat = int(s>=thr)\n",
    "    # explicación simple por términos clave\n",
    "    import re\n",
    "    tokens = np.array(vec.get_feature_names_out())\n",
    "    # top 3 términos con mayor peso presentes en el texto\n",
    "    term_weights = {t: w for t,w in zip(tokens, model.coef_[0]) if re.search(rf\"\\b{re.escape(t)}\\b\", descripcion.lower())}\n",
    "    just = \", \".join(sorted(term_weights, key=term_weights.get, reverse=True)[:3]) or \"(sin términos clave detectados)\"\n",
    "    return {\"probabilidad\": s, \"viable\": bool(yhat), \"justificacion\": f\"Se detectaron señales en: {just}\"}\n",
    "\n",
    "ej = \"MRR mensual 10k usd, clientes activos y acuerdos B2B; equipo con 6 años en logística.\"\n",
    "predecir_texto(ej)\n"
   ]
  }
 ],
 "metadata": {},
 "nbformat": 4,
 "nbformat_minor": 5
}
